{
 "cells": [
  {
   "cell_type": "markdown",
   "metadata": {},
   "source": [
    "# Assignment 1 - TDT4265\n",
    "## Sara L. Ludvigsen and Emma H. Buøen\n",
    "### April 2020\n",
    "\n",
    "## Task 1 - Theory\n",
    "### 1.a - Logistic regression\n",
    "The purpose of this task is to show that the gradient descent of the cost function is as given.\n",
    "\n",
    "$$\n",
    "\\frac{\\partial C^{n}(w)}{\\partial w_{j}} = - (y^{n} - \\hat{y}^{n}) x^{n}_{j}\n",
    "$$\n",
    "\n",
    "The cost function is as follows: \n",
    "$$\n",
    "C(w) = - \\frac{1}{N} \\sum_{n = 1}^{N} y^n ln(\\hat{y}^n) + (1-y^n) ln(1-\\hat{y}^n)\n",
    "$$\n",
    "\n",
    "\n",
    "\n"
   ]
  },
  {
   "cell_type": "markdown",
   "metadata": {},
   "source": []
  }
 ],
 "metadata": {
  "kernelspec": {
   "display_name": "Python 3",
   "language": "python",
   "name": "python3"
  },
  "language_info": {
   "codemirror_mode": {
    "name": "ipython",
    "version": 3
   },
   "file_extension": ".py",
   "mimetype": "text/x-python",
   "name": "python",
   "nbconvert_exporter": "python",
   "pygments_lexer": "ipython3",
   "version": "3.6.10"
  }
 },
 "nbformat": 4,
 "nbformat_minor": 4
}
