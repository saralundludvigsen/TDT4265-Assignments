{
 "cells": [
  {
   "cell_type": "markdown",
   "metadata": {},
   "source": [
    "# Assignment 1 - TDT4265\n",
    "#### Sara L. Ludvigsen and Emma H. Buøen\n",
    "##### April 2020\n",
    "\n",
    "## Task 1 - Theory\n",
    "### 1.a - Logistic Regression\n",
    "The purpose of this task is to show that the gradient descent of the cost function is as given.\n",
    "\n",
    "$$\n",
    "\\frac{\\partial C^{n}(w)}{\\partial w_{j}} = - (y^{n} - \\hat{y}^{n}) x^{n}_{j}\n",
    "$$\n",
    "\n",
    "The cost function is as follows: \n",
    "$$\n",
    "C(w) = - \\frac{1}{N} \\sum_{n = 1}^{N} y^n \\ln(\\hat{y}^n) + (1-y^n) \\ln(1-\\hat{y}^n)\n",
    "$$\n",
    "Where $ \\hat{y} = f_w(x) = \\frac{1}{1+e^{-w^Tx}}$ and $ \\frac{\\partial f_{w}(x^n)}{\\partial w_{j}} = x_j^n f_w(x^n)(1-f_w(x^n))$.\n",
    "\n",
    "\n",
    "We simplify by splitting up the calculations:\n",
    "$$ \n",
    "\\frac{\\partial}{\\partial w_j} \\ln(\\hat{y}^n)= \\frac{\\partial}{\\partial w_j}  \\ln(f_w(x^n)) = \\frac{1}{f_w(x^n)} \\frac{\\partial}{\\partial w_j}f_w(x^n) = \\frac{1}{f_w(x^n)} x_j^n f_w(x^n)(1-f_w(x^n)) = x_{j}^{n} (1-f_w(x^n))\n",
    "$$\n",
    "\n",
    "$$ \n",
    "\\frac{\\partial}{\\partial w_j} \\ln(1-\\hat{y}^n) = \\frac{\\partial}{\\partial w_j} \\ln(1-f_w(x^n))= \\frac{1}{1-f_w(x^n)} \\frac{\\partial }{\\partial w_j} (1-f_w(x^n))= \\frac{-1}{1-f_w(x^n)} x_j^n f_w(x^n)(1-f_w(x^n)) =- x_{j}^{n} f_w(x^{n}) \n",
    "$$\n",
    "\n",
    "With these calculations, we can show that:\n",
    "$$ \n",
    "\\frac{\\partial}{\\partial w_j} C^n(w)=  -\\frac{\\partial}{\\partial w_j}(y^n \\ln(\\hat{y}^n) + (1-y^n) \\ln(1-\\hat{y}^n)) =  -y^n x_{j}^{n} (1-f_w(x^n)) + (1-y^n) x_{j}^{n} f_w(x^{n})  = \\underline{-(y^n - \\hat{y}^n) x_j^n}\n",
    "$$\n",
    "\n",
    "### 1.b - Softmax Regression\n",
    "In this task we derive the gradient for Softmax Regression. Our goal is to show that \n",
    "$$\n",
    "\\frac{\\partial}{\\partial w_{kj}} C^n(w) = -\\frac{1}{K}x_j^n (y_k^n-\\hat{y}_k^n).\n",
    "$$\n",
    "The cost function is:\n",
    "$$\n",
    "C(w) = -\\frac{1}{N\\cdot K} \\sum_{n=1}^N \\sum_{k=1}^K y_k^n \\ln(\\hat{y_k^n})\n",
    "$$\n",
    "Where $\\hat{y}_k^n = \\frac{e^{z_k^n}}{\\sum_{k'=1}^K e^{z_{k'}^n}}$ and $z_k^n = w_k^T x^n$.\n",
    "\n",
    "$$\n",
    "\\frac{\\partial}{\\partial w_{kj}} C^n(w) = \\frac{\\partial C^n(w)}{\\partial \\hat{y}_k^n} \\frac{\\partial \\hat{y}_k^n}{\\partial z_k^n} \\frac{\\partial z_k^n}{\\partial w_{kj}}\n",
    "$$ \n",
    "$$\n",
    "\\sum_{k=1}^K y_k^n =1\n",
    "$$ \n",
    "$$\n",
    "\\ln(\\frac{a}{b}) = \\ln(a)-\\ln(b)\n",
    "$$\n",
    "\n",
    "\n",
    "\n",
    "\n"
   ]
  },
  {
   "cell_type": "markdown",
   "metadata": {},
   "source": [
    "## Task 2 - Logistic Regression through Gradient Descent\n",
    "\n",
    "![alt text](binary_train_loss_CURRENT.png \"Loss\")\n",
    "![alt text](binary_train_accuracy_CURRENT.png \"Accuracy\")"
   ]
  },
  {
   "cell_type": "markdown",
   "metadata": {},
   "source": [
    "## Task 3 - Regularization\n",
    "### 3.a \n",
    "\n",
    "The new cost function is $ J(w) = C(w) + \\lambda R(w) $ where $R(w)$ is the complexity penalty and $\\lambda$ is the strength of the regularization.\n",
    "\n",
    "From the problem description, it is known that\n",
    "$$\n",
    "R(w)=\\|w\\|^2= \\sum_{i,j} w_{i,j}^2 = \\sum_{i=1}^{I} \\sum_{k=1}^{K} w_{i,j}^2. \n",
    "$$\n",
    "We also know that $I = 785$ and $K = 1$.\n",
    "\n",
    "We want to find the new gradient of the cost function, in other words, we need to find $\\frac{\\partial}{\\partial w}R(w)$. \n",
    "\n",
    "$$\n",
    "\\frac{\\partial}{\\partial w}R(w) = \\sum_{i=1}^{I} \\sum_{k=1}^{K} w_{i,j}^2 \\frac{\\partial}{\\partial w}w_{i,j} = \\sum_{i=1}^{I} 2 w_i = 2\\sum_{i=1}^{I} w_i\n",
    "$$"
   ]
  },
  {
   "cell_type": "code",
   "execution_count": null,
   "metadata": {},
   "outputs": [],
   "source": []
  }
 ],
 "metadata": {
  "kernelspec": {
   "display_name": "Python 3",
   "language": "python",
   "name": "python3"
  },
  "language_info": {
   "codemirror_mode": {
    "name": "ipython",
    "version": 3
   },
   "file_extension": ".py",
   "mimetype": "text/x-python",
   "name": "python",
   "nbconvert_exporter": "python",
   "pygments_lexer": "ipython3",
   "version": "3.6.10"
  }
 },
 "nbformat": 4,
 "nbformat_minor": 4
}
