{
 "cells": [
  {
   "cell_type": "markdown",
   "metadata": {},
   "source": [
    "# Assignment 2- TDT4265\n",
    "#### Sara L. Ludvigsen and Emma H. Buøen\n",
    "##### April 2020\n",
    "\n",
    "## Task 1 - Softmax regression with backpropagation\n",
    "### 1.a - Backpropagation\n",
    "In this task we will show that \n",
    "$$\n",
    "w_{ji} := w_{ji} - \\alpha \\delta_j x_i\n",
    "$$\n",
    "and that\n",
    "$$\n",
    "\\delta_j = f'(z_j) \\sum_k w_{kj} \\delta_k .\n",
    "$$\n",
    "\n",
    "To do this, we first need to define our cost function as:\n",
    "$$\n",
    "C(w) = - \\frac{1}{N} \\sum_{n = 1}^{N} \\sum_{k = 1}^{K} y^n_k \\ln(\\hat{y}^n_k)\n",
    "$$\n",
    "\n",
    "We know from the problem description that the activation of hidden unit $j$ as $a_j = f(z_j)$, where f is the sigmoid function. It is also stated that\n",
    "$$\n",
    "z_j = \\sum_{i=0}^d w_{ji} x_i,\n",
    "$$\n",
    "and that $d$ is the dimensionality of the input. \n",
    "\n",
    "In the previous assignment, we showed that the update rule for for the weights $w_{kj}$ of the output\n",
    "layer is\n",
    "$$\n",
    "w_{kj} := w_{kj} - \\alpha \\delta_k a_j, \n",
    "$$\n",
    "where $\\delta_k = \\frac{\\partial C}{\\partial z_k} = -(y_k - \\hat{y}_k)$.\n",
    "\n",
    "Calculating the update rule for the weights $w_{ji}$:\n",
    "$$\n",
    "w_{ji} := w_{ji} - \\alpha \\frac{\\partial C}{\\partial w_{ij}} = w_{ji} - \\alpha \\overbrace{\\frac{\\partial C}{\\partial z_j}}^{\\delta_j} \\overbrace{\\frac{\\partial z_j}{\\partial w_{ij}}}^{x_i} = \\underline{w_{ji} - \\alpha \\delta_j x_i}\n",
    "$$\n",
    "$$\n",
    "\\delta_j = \\frac{\\partial C}{\\partial z_j} = \\frac{\\partial C}{\\partial a_j}\\frac{\\partial a_j}{\\partial z_j} = \\sum_k \\overbrace{\\frac{\\partial C}{\\partial z_k}}^{\\delta_k}  \\overbrace{\\frac{\\partial z_k}{\\partial a_j}}^{w_{kj}} \\overbrace{\\frac{\\partial a_j}{\\partial z_j}}^{f'(z_j)} = f'(z_j) \\sum_k w_{kj} \\delta_k\n",
    "$$\n",
    "\n",
    "\n",
    "### 1.b -  Vectorize computation"
   ]
  },
  {
   "cell_type": "markdown",
   "metadata": {},
   "source": []
  },
  {
   "cell_type": "code",
   "execution_count": null,
   "metadata": {},
   "outputs": [],
   "source": []
  }
 ],
 "metadata": {
  "kernelspec": {
   "display_name": "Python 3",
   "language": "python",
   "name": "python3"
  },
  "language_info": {
   "codemirror_mode": {
    "name": "ipython",
    "version": 3
   },
   "file_extension": ".py",
   "mimetype": "text/x-python",
   "name": "python",
   "nbconvert_exporter": "python",
   "pygments_lexer": "ipython3",
   "version": "3.6.10"
  }
 },
 "nbformat": 4,
 "nbformat_minor": 4
}
