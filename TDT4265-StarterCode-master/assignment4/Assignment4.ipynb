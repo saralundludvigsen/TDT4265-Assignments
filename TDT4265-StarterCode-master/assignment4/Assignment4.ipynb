{
 "cells": [
  {
   "cell_type": "markdown",
   "metadata": {},
   "source": [
    "# Assignment 4 - TDT4265\n",
    "#### Sara L. Ludvigsen and Emma H. Buøen\n",
    "##### April 2020"
   ]
  },
  {
   "cell_type": "markdown",
   "metadata": {},
   "source": [
    "## Task 1\n",
    "### 1.a\n",
    "The intersection over union (IoU), is the ratio between the intersected area over the joined area for two regions.\n",
    "![IoU.png](IoU.png)\n",
    "\n",
    "### 1.b\n",
    "Precison measures how accurate your predictions is. Recall measures how good you find all the positives. When we say \"true positive\" we mean the cases where we predicted \"positive\" to be \"true\", and the prediction was correct. \"False positive\" is when we predict \"positive\", but it is incorrect. \n",
    "\n",
    "$$\n",
    "TP = True Positive\n",
    "$$\n",
    "$$\n",
    "TN = True Negative\n",
    "$$\n",
    "$$\n",
    "FP = False Positive\n",
    "$$\n",
    "$$\n",
    "FN = False Negative\n",
    "$$\n",
    "\n",
    "$$\n",
    "Precision = \\frac{TP}{TP + FP}\n",
    "$$\n",
    "\n",
    "$$\n",
    "Recall = \\frac{TP}{TP + FN}\n",
    "$$\n",
    "\n",
    "### 1.b\n",
    "\n",
    "Average precision (AP) is equal to the area under the precision and recall curve. The mean average precision (mAP) is the mean of the curves. \n",
    "\n",
    "*Insert drawing of precision and recall curve*\n",
    "\n",
    "$$\n",
    "AP_{class1} = 0.4*1 + 0.3*0.5 + 0.3*0.2 + 0.3*0.5*0.5 + 0.3*0.3*0.5 = 0.73\n",
    "$$\n",
    "\n",
    "$$\n",
    "AP_{class2} = 0.3*1 + 0.2*0.6 + 0.2*0.5 + 0.3*0.2 + 0.2*0.4*0.5 + 0.2*0.1*0.5 + 0.3*0.3*0.5 = 0.675\n",
    "$$\n",
    "\n",
    "$$\n",
    "mAP = \\frac{AP_{class1} + AP_{class2}}{2} = \\frac{0.73 + 0.675}{2} = 0.7025\n",
    "$$"
   ]
  },
  {
   "cell_type": "code",
   "execution_count": null,
   "metadata": {},
   "outputs": [],
   "source": []
  }
 ],
 "metadata": {
  "kernelspec": {
   "display_name": "Python 3",
   "language": "python",
   "name": "python3"
  },
  "language_info": {
   "codemirror_mode": {
    "name": "ipython",
    "version": 3
   },
   "file_extension": ".py",
   "mimetype": "text/x-python",
   "name": "python",
   "nbconvert_exporter": "python",
   "pygments_lexer": "ipython3",
   "version": "3.6.10"
  }
 },
 "nbformat": 4,
 "nbformat_minor": 4
}
